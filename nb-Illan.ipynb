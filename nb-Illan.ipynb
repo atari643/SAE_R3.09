{
 "cells": [
  {
   "cell_type": "markdown",
   "metadata": {},
   "source": [
    "# Chiffrement d'un message "
   ]
  },
  {
   "cell_type": "code",
   "execution_count": null,
   "metadata": {},
   "outputs": [],
   "source": [
    "'''\n",
    "Chiffre un message à partir d'une clé publique\n",
    "d'un crypto-système de Kifli\n",
    "\n",
    "Parametres :\n",
    "    message      (str)   : Message encodé en binaire.\n",
    "    cle_publique (int[]) : Tableau d'entier correspondant à la clé publique\n",
    "\n",
    "Retourne :\n",
    "    str[] : Une liste de bloc de message crypté, de taille égale ou inférieure à la taille de la clé publique.\n",
    "            Seulement le dernier bloc peut avoir une taille inférieure.\n",
    "'''\n",
    "def chiffre(message, cle_publique):\n",
    "    blocsMessageChiffre = []\n",
    "\n",
    "    n = len(cle_publique) ## n correspond à la taille maximum des \n",
    "\n",
    "    # On découpe tout d'abord le message en sous message d'une taille égale ou inférieure à la taille de la clé publique\n",
    "    # Puis on parcours chaqun de ces blocs\n",
    "    for blocMessage in decoupMessage(message,n) :\n",
    "        sommeC = 0\n",
    "        for i in range (len(blocMessage)):\n",
    "            if (message[i] == '1'):\n",
    "                # On ajoute à la somme la valeur associé à la position du 1 dans le message qui est la valeur à l'index i du paquet A\n",
    "                sommeC += cle_publique[i]\n",
    "        \n",
    "        ## Encodage en binaire du message chiffré puis passage en chaine de caractère (Nécessite d'enlever les deux premiers caractères qui sont rajoutés : 'Ob')\n",
    "        blocsMessageChiffre.append(str(bin(sommeC))[2:]) \n",
    "\n",
    "    return blocsMessageChiffre\n",
    "\n",
    "'''\n",
    "Découpe un message en plusieurs chaînes de caractères d'une taille n ou inférieure.\n",
    "Seulement le dernier bloc peut avoir une taille inférieure.\n",
    "\n",
    "Parametres :\n",
    "    message (str) : Message à découper\n",
    "    n       (int) : Taille \n",
    "\n",
    "Retourne :\n",
    "    str[] : Une liste de blocs du message\n",
    "\n",
    "'''\n",
    "def decoupMessage(message,n):\n",
    "    messageDecoupe = []\n",
    "\n",
    "    #Découpage jusqu'à que le message initial soit vide\n",
    "    while len(message) > 0 :\n",
    "        messageDecoupe.append(message[:n]) # Récupèration d'un bloc de taille n\n",
    "        message = message[n:] # Chagement du message afin d'enlever le bloc récupéré précedemment\n",
    "\n",
    "    return messageDecoupe\n",
    "\n"
   ]
  },
  {
   "cell_type": "markdown",
   "metadata": {},
   "source": [
    "## Test chiffrement déchiffrement"
   ]
  },
  {
   "cell_type": "code",
   "execution_count": null,
   "metadata": {},
   "outputs": [],
   "source": [
    "def test_chiffrement_dechiffrement(message, n) :\n",
    "    cle_privee = gen_cle_privee(n)\n",
    "    cle_publique = gen_cle_publique(cle_privee)\n",
    "    messageChiffre = chiffre(message, cle_publique)\n",
    "    messageDechiffre = dechiffre(messageChiffre, cle_privee)\n",
    "    return message == messageDechiffre"
   ]
  }
 ],
 "metadata": {
  "kernelspec": {
   "display_name": "Python 3",
   "language": "python",
   "name": "python3"
  },
  "language_info": {
   "codemirror_mode": {
    "name": "ipython",
    "version": 3
   },
   "file_extension": ".py",
   "mimetype": "text/x-python",
   "name": "python",
   "nbconvert_exporter": "python",
   "pygments_lexer": "ipython3",
   "version": "3.10.12"
  },
  "orig_nbformat": 4
 },
 "nbformat": 4,
 "nbformat_minor": 2
}
