{
 "cells": [
  {
   "cell_type": "markdown",
   "metadata": {},
   "source": [
    "# Chiffrement d'un message "
   ]
  },
  {
   "cell_type": "code",
   "execution_count": null,
   "metadata": {},
   "outputs": [],
   "source": [
    "def chiffre(message, cle_publique):\n",
    "    messageChiffre = []\n",
    "    n = len(cle_publique)\n",
    "    messageDecoupe = decoupMessage(message,n)\n",
    "\n",
    "    for blocMessage in messageDecoupe:   \n",
    "        sommeC = 0\n",
    "        for i in range (len(blocMessage)):\n",
    "            if (message[i] == '1'):\n",
    "                sommeC += cle_publique[i]\n",
    "        messageChiffre.append(str(bin(100))[2:])\n",
    "\n",
    "    return messageChiffre\n",
    "\n",
    "\n",
    "\n",
    "def decoupMessage(message,n):\n",
    "    messageDecoupe = []\n",
    "    while len(message) > 0 :\n",
    "        messageDecoupe.append(message[:n])\n",
    "        message = message[n:]\n",
    "    return messageDecoupe\n"
   ]
  },
  {
   "cell_type": "code",
   "execution_count": null,
   "metadata": {},
   "outputs": [],
   "source": [
    "testStr = \"01234567890123456789\"\n",
    "\n",
    "print(testStr[5:])\n",
    "print(testStr[:5])\n",
    "\n",
    "\n",
    "print(decoupMessage(testStr,5))\n",
    "\n",
    "print(str(bin(100))[2:])\n",
    "\n",
    "testMessage = \"10101111010101\"\n",
    "print(chiffre(\"10101111010101\",))\n",
    "\n",
    "print(decoupMessage(testMessage,5))\n"
   ]
  }
 ],
 "metadata": {
  "kernelspec": {
   "display_name": "Python 3",
   "language": "python",
   "name": "python3"
  },
  "language_info": {
   "codemirror_mode": {
    "name": "ipython",
    "version": 3
   },
   "file_extension": ".py",
   "mimetype": "text/x-python",
   "name": "python",
   "nbconvert_exporter": "python",
   "pygments_lexer": "ipython3",
   "version": "3.10.12"
  },
  "orig_nbformat": 4
 },
 "nbformat": 4,
 "nbformat_minor": 2
}
