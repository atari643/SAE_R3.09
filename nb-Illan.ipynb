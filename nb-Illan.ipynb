{
 "cells": [
  {
   "cell_type": "markdown",
   "metadata": {},
   "source": [
    "# Chiffrement d'un message "
   ]
  },
  {
   "cell_type": "code",
   "execution_count": null,
   "metadata": {},
   "outputs": [],
   "source": [
    "'''\n",
    "Chiffre un message à partir d'une clé publique\n",
    "d'un crypto-système de Kifli\n",
    "\n",
    "Parametres :\n",
    "    message      (str)   : Message encodé en binaire. ex : '10110'\n",
    "    cle_publique (int[]) : Tableau d'entier correspondant à la clé publique\n",
    "\n",
    "Retourne :\n",
    "    int[] : Une liste de bloc de message crypté\n",
    "'''\n",
    "def chiffre(message, cle_publique):\n",
    "    blocsMessageChiffre = []\n",
    "    n = len(cle_publique) # n correspond à la taille maximum des \n",
    "\n",
    "    # On découpe tout d'abord le message en sous message d'une taille égale ou inférieure à la taille de la clé publique\n",
    "    # Puis on parcours chacun de ces blocs\n",
    "    for blocMessage in decoupMessage(message,n) :\n",
    "        tailleDernierBloc = len(blocMessage)\n",
    "        sommeC = 0\n",
    "        for i in range (len(blocMessage)):\n",
    "            if (message[i] == '1'):\n",
    "                # On ajoute à la somme la valeur associé à la position du 1 dans le message qui est la valeur à l'index i du paquet A\n",
    "                sommeC += cle_publique[i]\n",
    "        \n",
    "        \n",
    "        blocsMessageChiffre.append((sommeC))\n",
    "\n",
    "    return [tailleDernierBloc] + blocsMessageChiffre\n",
    "\n",
    "'''\n",
    "Découpe un message en plusieurs chaînes de caractères d'une taille n ou inférieure.\n",
    "Seulement le dernier bloc peut avoir une taille inférieure.\n",
    "\n",
    "Parametres :\n",
    "    message (str) : Message à découper\n",
    "    n       (int) : Taille \n",
    "\n",
    "Retourne :\n",
    "    str[] : Une liste de blocs du message\n",
    "\n",
    "'''\n",
    "def decoupMessage(message,n):\n",
    "    messageDecoupe = []\n",
    "\n",
    "    #Découpage jusqu'à que le message initial soit vide\n",
    "    while len(message) > 0 :\n",
    "        messageDecoupe.append(message[:n]) # Récupèration d'un bloc de taille n\n",
    "        message = message[n:] # Chagement du message afin d'enlever le bloc récupéré précedemment\n",
    "\n",
    "    return messageDecoupe\n",
    "\n",
    "\n",
    "\n",
    "\n",
    "cle_publique_test = [22,16,71,54,56]\n",
    "\n",
    "\n",
    "\n",
    "assert(149 == chiffre('10101',cle_publique_test)[1])\n",
    "\n",
    "\n",
    "print(chiffre('100011001',cle_publique_test))\n",
    "print(chiffre('10001',cle_publique_test))\n",
    "\n",
    "\n",
    "\n",
    "print(chiffre('1',cle_publique_test))\n",
    "print(chiffre('10000',cle_publique_test))\n",
    "\n",
    "\n",
    "print(chiffre('100011001',cle_publique_test))\n"
   ]
  },
  {
   "cell_type": "markdown",
   "metadata": {},
   "source": [
    "## Test chiffrement déchiffrement"
   ]
  },
  {
   "cell_type": "code",
   "execution_count": null,
   "metadata": {},
   "outputs": [],
   "source": [
    "def test_chiffrement_dechiffrement(message, n) :\n",
    "    cle_privee = gen_cle_privee(n)\n",
    "    cle_publique = gen_cle_publique(cle_privee)\n",
    "    messageChiffre = chiffre(message, cle_publique)\n",
    "    messageDechiffre = dechiffre(messageChiffre, cle_privee)\n",
    "    return message == messageDechiffre"
   ]
  },
  {
   "cell_type": "markdown",
   "metadata": {},
   "source": [
    "## D'après vous, le NIST a-t-il eu raison de ne pas retenir le crypto-système de Kifli dans sa liste d'algorithmes post-quantique ? Justifiez votre réponse.\n",
    "\n",
    "\n",
    "N'ayant pas pu trouver d'informations complémentaire sur le crypto-système de Kifli donc à partir des informations donnés dans le sujet, il nous semble que ce crypto-système mérite une place dans la liste des algorithmes post-quantiques pour deux raisons.\n",
    "\n",
    "En premier lieu, ce crypto-système semble respecter toutes les qualités que doivent respecter un crypto-système c'est à dire : \n",
    "- Confusion : Le message est intelligible lorsqu'il est chiffré.\n",
    "- Diffusion : Une modification légère du message change le message suffisament pour ne pas déduire des informations.\n",
    "- Robustesse de la clé : La robustesse de la clé dépend grandement de la capacité à générer aléatoirement une paire clé publique clé privée efficacement, de plus la longueur de la clé doit être assez grande pour qu'elle soit robuste. Cependant si elle est bien généré alors la clé est bien robuste.\n",
    "\n",
    "En second lieu, il rompt avec le problème de factorisation que propose l'algorithme clé publique, clé privée utilisé en ce moment (RSA) qui est un problème qui sera résolu avec l'apparition des ordinateurs quantiques.\n",
    "En proposant à la place un problème NP-complet qui n'ai pas d'algorithmes permettant de résoudre tous les cas en compléxité polynomial n.\n",
    "De plus cet algorithme a peu de chance d'exister dans le futur car il n'est pas certain qu'il puisse exister un tel algorithme.\n",
    "\n",
    "\n",
    "Cependant, il nous semble pertinent de mentionner qu'en tant que 2ème année de BUT Informatique nous connaissons pas assez la cryptographie et la cryptanalyse nous permettant d'avoir le recul nécessaire pour affirmer que cet algorithme soit viable ou non pour le futur.\n",
    "\n"
   ]
  }
 ],
 "metadata": {
  "kernelspec": {
   "display_name": "Python 3",
   "language": "python",
   "name": "python3"
  },
  "language_info": {
   "codemirror_mode": {
    "name": "ipython",
    "version": 3
   },
   "file_extension": ".py",
   "mimetype": "text/x-python",
   "name": "python",
   "nbconvert_exporter": "python",
   "pygments_lexer": "ipython3",
   "version": "3.10.12"
  },
  "orig_nbformat": 4
 },
 "nbformat": 4,
 "nbformat_minor": 2
}
