{
 "cells": [
  {
   "cell_type": "markdown",
   "metadata": {},
   "source": [
    "# Chiffrement d'un message "
   ]
  },
  {
   "cell_type": "code",
   "execution_count": null,
   "metadata": {},
   "outputs": [],
   "source": [
    "def chiffre(message, cle_publique):\n",
    "    messageChiffre = []\n",
    "    n = len(cle_publique)\n",
    "    messageDecoupe = decoupMessage(message,n)\n",
    "\n",
    "    for blocMessage in messageDecoupe:   \n",
    "        sommeC = 0\n",
    "        for i in range (len(blocMessage)):\n",
    "            if (message[i] == '1'):\n",
    "                sommeC += cle_publique[i]\n",
    "        messageChiffre.append(str(sommeC(100))[2:])\n",
    "\n",
    "    return messageChiffre\n",
    "\n",
    "\n",
    "\n",
    "def decoupMessage(message,n):\n",
    "    messageDecoupe = []\n",
    "    while len(message) > 0 :\n",
    "        messageDecoupe.append(message[:n])\n",
    "        message = message[n:]\n",
    "    return messageDecoupe\n",
    "\n"
   ]
  },
  {
   "cell_type": "markdown",
   "metadata": {},
   "source": [
    "## Test de la méthode chiffre"
   ]
  },
  {
   "cell_type": "code",
   "execution_count": null,
   "metadata": {},
   "outputs": [],
   "source": [
    "cle_publique_test = [22,16,71,54,56]\n",
    "\n",
    "print(str(bin(149))[2:])\n",
    "print(chiffre('10101',cle_publique_test))\n",
    "\n",
    "assert(str(bin(149))[2:] == chiffre('10101',cle_publique_test)[0])"
   ]
  }
 ],
 "metadata": {
  "kernelspec": {
   "display_name": "Python 3",
   "language": "python",
   "name": "python3"
  },
  "language_info": {
   "codemirror_mode": {
    "name": "ipython",
    "version": 3
   },
   "file_extension": ".py",
   "mimetype": "text/x-python",
   "name": "python",
   "nbconvert_exporter": "python",
   "pygments_lexer": "ipython3",
   "version": "3.10.12"
  },
  "orig_nbformat": 4
 },
 "nbformat": 4,
 "nbformat_minor": 2
}
