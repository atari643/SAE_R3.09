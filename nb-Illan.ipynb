{
 "cells": [
  {
   "cell_type": "code",
   "execution_count": 173,
   "metadata": {},
   "outputs": [],
   "source": [
    "import math\n",
    "import random as rd\n",
    "import sys\n",
    "\n",
    "def algo_Euclide(a,b):\n",
    "    if(b==0):\n",
    "        return a\n",
    "    else:\n",
    "        return algo_Euclide(b,a%b)\n",
    "        \n",
    "def exponentiation_modulaire (a, e, n):\n",
    "    if e == 0:\n",
    "        return 1\n",
    "    elif e%2 == 0:\n",
    "        return exponentiation_modulaire((a*a)%n, e//2, n)\n",
    "    else:\n",
    "        return (a*exponentiation_modulaire((a*a)%n, (e-1)//2, n))%n\n",
    "\n",
    "def algo_Euclide_etendu(a,b):\n",
    "    if(b==0):\n",
    "        return(a,1,0)\n",
    "    else:\n",
    "        d,u,v=algo_Euclide_etendu(b, a%b)\n",
    "        return d,v,u-(a//b)*v\n",
    "        \n",
    "def gen_pochon(n):\n",
    "    tab = []\n",
    "    somme = 0\n",
    "    for _ in range(n):\n",
    "        b = rd.randint(somme + 1, somme + sys.maxsize // n)\n",
    "        somme += b\n",
    "        tab.append(b)\n",
    "    return tab\n",
    "\n",
    "def gen_W(M):\n",
    "    W=rd.randint(1, M-1)\n",
    "    while(math.gcd(W,M)!=1):\n",
    "        W=rd.randint(1, M-1)\n",
    "    return W\n",
    "\n",
    "def gen_permutation(n):\n",
    "    sigma = list(range(1, n+1))\n",
    "    rd.shuffle(sigma)\n",
    "    return sigma\n",
    "\n",
    "def gen_cle_publique(cle_privee):\n",
    "    pochon, M, W, sigma = cle_privee\n",
    "    return [(pochon[sigma[i]-1] * W) % M for i in range(len(pochon))]"
   ]
  },
  {
   "cell_type": "markdown",
   "metadata": {},
   "source": [
    "## Génération clé privée, problème de pochon et déchiffrement"
   ]
  },
  {
   "cell_type": "code",
   "execution_count": 200,
   "metadata": {},
   "outputs": [],
   "source": [
    "\n",
    "from random import randint\n",
    "\n",
    "\"\"\"\n",
    "Génère une clé privée du cryptosystème de Kifli. Une clé privée contient un pochon P,\n",
    "un entier M tel que la somme du pochon < M, W entier aléatoire entre 1 et M et premier avec ce dernier,\n",
    "et sigma, représentant une permutation aléatoire des indices du pochon.\n",
    "\n",
    "Paramètres:\n",
    "    n : La taille du pochon et de sigma.\n",
    "\n",
    "Retourne:\n",
    "    (p, m, w, sigma) : La clé privée sous forme de n-uplet.\n",
    "\"\"\"\n",
    "def gen_cle_privee(n):\n",
    "    # cle_privee = (P, M, W, sigma)\n",
    "    # P = {b1, b2...}\n",
    "    # M = M tel que somme bi < M\n",
    "    # W = random entre 1 et M-1, premier avec M\n",
    "    # sigma = permu aléatoire de P\n",
    "\n",
    "    # Calcul de P \n",
    "    p = gen_pochon(n)\n",
    "\n",
    "    # Calcul de M\n",
    "    m = randint(sum(p) + 1, sum(p) + 3)\n",
    "\n",
    "    # Calcul de W\n",
    "    w = gen_W(m)\n",
    "\n",
    "    # Calcul de sigma\n",
    "    sigma = gen_permutation(n)\n",
    "    \n",
    "    return (p, m, w, sigma)\n",
    "\n",
    "\"\"\"\n",
    "Renvoie une solution au problème de pochon.\n",
    "\n",
    "Paramètres :\n",
    "    pochon : Le pochon dont on veut résoudre son problème.\n",
    "    c : Le nombre à comparer avec les éléments du pochon.\n",
    "\n",
    "Retour :\n",
    "    E : La liste des indices du pochon qui résolvent le problème de pochon.\n",
    "\"\"\"\n",
    "def solve_pochon(pochon, D):\n",
    "    E = [0] * len(pochon)\n",
    "    for i in range(len(pochon)):\n",
    "        if pochon[i] <= D:\n",
    "            E[i] = 1\n",
    "            D -= pochon[i]\n",
    "    return E\n",
    "\"\"\"\n",
    "Déchiffre un message chiffré par le cryptosystème de Kifli.\n",
    "\n",
    "Paramètres:\n",
    "    message_chiffre : Le message chiffré par le cryptosystème de Kifli. Il est\n",
    "    représenté par une liste, qui sert de découpage du message.\n",
    "    cle_privee : La clé privée utilisée.\n",
    "\n",
    "Retourne :\n",
    "    message_dechiffre : Le message déchiffré, sous forme de liste de listes. Chaque\n",
    "    sous-liste est un bloc du message.\n",
    "\"\"\"\n",
    "def dechiffre(message_chiffre, cle_privee):\n",
    "    # Inverse modulaire de W\n",
    "    inverse_mod_w = algo_Euclide_etendu(cle_privee[2], cle_privee[1])[1] % cle_privee[1]\n",
    "    \n",
    "    # Nous avons considéré que la taille du dernier bloc de message devait être utilisée. Elle est le premier élément du message.\n",
    "    taille_dernier_bloc = message_chiffre[0]\n",
    "\n",
    "    message_dechiffre = \"\"\n",
    "    for message in message_chiffre[1:]:\n",
    "        # Déterminer D tel que D = W^-1*message%M, avec W^-1 l'inverse modulaire de W.\n",
    "        D = inverse_mod_w * message % cle_privee[1]\n",
    "        print(\"D=\",D)\n",
    "        print(\"message=\",message)\n",
    "        # Résolution du problème de pochons\n",
    "        P = cle_privee[0]\n",
    "        P.reverse() # On utilise le pochon dans l'ordre décroissant\n",
    "        E = solve_pochon(P, D)\n",
    "        print(\"E = \",E)\n",
    "\n",
    "        sous_message = [\"0\"]*len(cle_privee[3])\n",
    "        for i in range(len(cle_privee[3])):\n",
    "            sous_message[cle_privee[3][i]-1]=str(E[i]) # Ajout de l'indice de la permutation\n",
    "        \n",
    "        message_dechiffre = message_dechiffre.join(sous_message)\n",
    "        \n",
    "    # Découpage du dernier bloc, pour retirer les derniers éléments non-désirés, dans le cas où n est différent de la taille du message\n",
    "    message_dechiffre = message_dechiffre[:len(message_dechiffre)-(len(P)-taille_dernier_bloc)]\n",
    "    return message_dechiffre\n",
    "\n",
    "        \n"
   ]
  },
  {
   "cell_type": "markdown",
   "metadata": {},
   "source": [
    "# Chiffrement d'un message "
   ]
  },
  {
   "cell_type": "code",
   "execution_count": 168,
   "metadata": {},
   "outputs": [],
   "source": [
    "'''\n",
    "Chiffre un message à partir d'une clé publique\n",
    "d'un crypto-système de Kifli\n",
    "\n",
    "Parametres :\n",
    "    message      (str)   : Message encodé en binaire. ex : '10110'\n",
    "    cle_publique (int[]) : Tableau d'entier correspondant à la clé publique\n",
    "\n",
    "Retourne :\n",
    "    int[] : Une liste de bloc de message crypté\n",
    "'''\n",
    "def chiffre(message, cle_publique):\n",
    "    blocsMessageChiffre = []\n",
    "    n = len(cle_publique) # n correspond à la taille maximum des \n",
    "\n",
    "    # On découpe tout d'abord le message en sous message d'une taille égale ou inférieure à la taille de la clé publique\n",
    "    # Puis on parcours chacun de ces blocs\n",
    "\n",
    "    for blocMessage in decoupMessage(message,n) :\n",
    "        tailleDernierBloc = len(blocMessage)\n",
    "        sommeC = 0\n",
    "        for i in range (len(blocMessage)):\n",
    "            if (blocMessage[i] == '1'):\n",
    "                # On ajoute à la somme la valeur associé à la position du 1 dans le message qui est la valeur à l'index i du paquet A\n",
    "                sommeC += cle_publique[i]\n",
    "        blocsMessageChiffre.append((sommeC))\n",
    "    return [tailleDernierBloc] + blocsMessageChiffre\n",
    "\n",
    "'''\n",
    "Découpe un message en plusieurs chaînes de caractères d'une taille n ou inférieure.\n",
    "Seulement le dernier bloc peut avoir une taille inférieure.\n",
    "\n",
    "Parametres :\n",
    "    message (str) : Message à découper\n",
    "    n       (int) : Taille \n",
    "\n",
    "Retourne :\n",
    "    str[] : Une liste de blocs du message\n",
    "\n",
    "'''\n",
    "def decoupMessage(message,n):\n",
    "    messageDecoupe = []\n",
    "\n",
    "    #Découpage jusqu'à que le message initial soit vide\n",
    "    while len(message) > 0 :\n",
    "        messageDecoupe.append(message[:n]) # Récupèration d'un bloc de taille n\n",
    "        message = message[n:] # Chagement du message afin d'enlever le bloc récupéré précedemment\n",
    "    return messageDecoupe"
   ]
  },
  {
   "cell_type": "markdown",
   "metadata": {},
   "source": [
    "## Test unitaires"
   ]
  },
  {
   "cell_type": "code",
   "execution_count": 169,
   "metadata": {},
   "outputs": [],
   "source": [
    "cle_publique_test = [22,16,71,54,56]\n",
    "n = 5\n",
    "P = [2,5,11,23,55]\n",
    "M = 113\n",
    "W = 27\n",
    "sigma = (2,5,3,1,4)\n",
    "cle_priv_test=(P,M,W,sigma)"
   ]
  },
  {
   "cell_type": "markdown",
   "metadata": {},
   "source": [
    "### Génération de clé publique"
   ]
  },
  {
   "cell_type": "code",
   "execution_count": 170,
   "metadata": {},
   "outputs": [
    {
     "name": "stdout",
     "output_type": "stream",
     "text": [
      "Clé publique généré à partir de la clé privée :  [22, 16, 71, 54, 56]\n"
     ]
    }
   ],
   "source": [
    "print(\"Clé publique généré à partir de la clé privée : \",gen_cle_publique(cle_priv_test))\n",
    "assert(gen_cle_publique(cle_priv_test) == cle_publique_test)"
   ]
  },
  {
   "cell_type": "markdown",
   "metadata": {},
   "source": [
    "### Chiffrement"
   ]
  },
  {
   "cell_type": "code",
   "execution_count": 171,
   "metadata": {},
   "outputs": [
    {
     "name": "stdout",
     "output_type": "stream",
     "text": [
      "Test message chiffre n = len(message) :  [5, 149]\n",
      "Test message chiffre n < len(message) :  [3, 93, 38]\n",
      "Test message chiffre n > len(message) :  [4, 92]\n"
     ]
    }
   ],
   "source": [
    "messageChiffre = chiffre('10101',cle_publique_test)\n",
    "print(\"Test message chiffre n = len(message) : \",messageChiffre)\n",
    "assert([5,149] == messageChiffre)\n",
    "\n",
    "messageChiffre = chiffre('10100110',cle_publique_test)\n",
    "print(\"Test message chiffre n < len(message) : \",messageChiffre)\n",
    "assert([3,93,38]  == messageChiffre)\n",
    "\n",
    "messageChiffre = chiffre('1101',cle_publique_test)\n",
    "print(\"Test message chiffre n > len(message) : \",messageChiffre)\n",
    "assert([4,92] == messageChiffre)"
   ]
  },
  {
   "cell_type": "markdown",
   "metadata": {},
   "source": [
    "### Dechiffrement"
   ]
  },
  {
   "cell_type": "code",
   "execution_count": 217,
   "metadata": {},
   "outputs": [
    {
     "name": "stdout",
     "output_type": "stream",
     "text": [
      "D= 39\n",
      "message= 149\n",
      "E =  [0, 1, 1, 1, 0]\n",
      "Test message dechiffre n = len(message) :  10101\n",
      "D= 16\n",
      "message= 93\n",
      "E =  [1, 1, 0, 0, 0]\n",
      "D= 5\n",
      "message= 22\n",
      "E =  [0, 0, 0, 1, 0]\n",
      "Test message dechiffre n < len(message) :  101001001001001001001\n"
     ]
    },
    {
     "ename": "AssertionError",
     "evalue": "",
     "output_type": "error",
     "traceback": [
      "\u001b[0;31m---------------------------------------------------------------------------\u001b[0m",
      "\u001b[0;31mAssertionError\u001b[0m                            Traceback (most recent call last)",
      "\u001b[1;32m/mnt/netta/users/qartigala/Bureau/sae_r3.09/nb-Illan.ipynb Cell 13\u001b[0m line \u001b[0;36m7\n\u001b[1;32m      <a href='vscode-notebook-cell:/mnt/netta/users/qartigala/Bureau/sae_r3.09/nb-Illan.ipynb#X36sZmlsZQ%3D%3D?line=4'>5</a>\u001b[0m messageDeChiffre \u001b[39m=\u001b[39m dechiffre([\u001b[39m1\u001b[39m,\u001b[39m93\u001b[39m,\u001b[39m22\u001b[39m],cle_priv_test)\n\u001b[1;32m      <a href='vscode-notebook-cell:/mnt/netta/users/qartigala/Bureau/sae_r3.09/nb-Illan.ipynb#X36sZmlsZQ%3D%3D?line=5'>6</a>\u001b[0m \u001b[39mprint\u001b[39m(\u001b[39m\"\u001b[39m\u001b[39mTest message dechiffre n < len(message) : \u001b[39m\u001b[39m\"\u001b[39m,messageDeChiffre)\n\u001b[0;32m----> <a href='vscode-notebook-cell:/mnt/netta/users/qartigala/Bureau/sae_r3.09/nb-Illan.ipynb#X36sZmlsZQ%3D%3D?line=6'>7</a>\u001b[0m \u001b[39massert\u001b[39;00m(\u001b[39m\"\u001b[39m\u001b[39m10100110\u001b[39m\u001b[39m\"\u001b[39m\u001b[39m==\u001b[39m messageDeChiffre)\n\u001b[1;32m      <a href='vscode-notebook-cell:/mnt/netta/users/qartigala/Bureau/sae_r3.09/nb-Illan.ipynb#X36sZmlsZQ%3D%3D?line=8'>9</a>\u001b[0m messageDeChiffre \u001b[39m=\u001b[39m dechiffre([\u001b[39m1\u001b[39m,\u001b[39m93\u001b[39m,\u001b[39m22\u001b[39m],cle_priv_test)\n\u001b[1;32m     <a href='vscode-notebook-cell:/mnt/netta/users/qartigala/Bureau/sae_r3.09/nb-Illan.ipynb#X36sZmlsZQ%3D%3D?line=9'>10</a>\u001b[0m \u001b[39mprint\u001b[39m(\u001b[39m\"\u001b[39m\u001b[39mTest message dechiffre n > len(message) : \u001b[39m\u001b[39m\"\u001b[39m,messageDeChiffre)\n",
      "\u001b[0;31mAssertionError\u001b[0m: "
     ]
    }
   ],
   "source": [
    "messageDeChiffre = dechiffre([5,149],cle_priv_test)\n",
    "print(\"Test message dechiffre n = len(message) : \",messageDeChiffre)\n",
    "assert(\"10101\" == messageDeChiffre)\n",
    "\n",
    "messageDeChiffre = dechiffre([1,93,22],cle_priv_test)\n",
    "print(\"Test message dechiffre n < len(message) : \",messageDeChiffre)\n",
    "assert(\"10100110\"== messageDeChiffre)\n",
    "\n",
    "messageDeChiffre = dechiffre([1,93,22],cle_priv_test)\n",
    "print(\"Test message dechiffre n > len(message) : \",messageDeChiffre)\n",
    "assert(\"1101\" == messageDeChiffre)"
   ]
  },
  {
   "cell_type": "markdown",
   "metadata": {},
   "source": [
    "## Tests fonctionnels"
   ]
  },
  {
   "cell_type": "code",
   "execution_count": null,
   "metadata": {},
   "outputs": [
    {
     "name": "stdout",
     "output_type": "stream",
     "text": [
      "Pochon= [1800790184557121884, 2778276198235750332, 6277356922990549831, 10885081577229533406, 22005569886941366391]\n",
      "M= 43747074769954321847\n",
      "Message chiffré= [5, 46560552281089666034]\n",
      "Sigma= [5, 3, 2, 1, 4]\n",
      "clé pub= [34032045892420303576, 31516946230063070075, 11361196140261689974, 35202031161057430699, 1167310248407672484]\n",
      "D= 35668927662406650129\n",
      "message= 46560552281089666034\n",
      "E =  [0, 1, 1, 1, 1]\n",
      "Message déchiffré= [['1', '1', '1', '1', '0']]\n"
     ]
    },
    {
     "data": {
      "text/plain": [
       "False"
      ]
     },
     "execution_count": 14,
     "metadata": {},
     "output_type": "execute_result"
    }
   ],
   "source": [
    "def test_chiffrement_dechiffrement(message, n) :\n",
    "    cle_privee = gen_cle_privee(n)\n",
    "    cle_publique = gen_cle_publique(cle_privee)\n",
    "    messageChiffre = chiffre(message, cle_publique)\n",
    "    print(\"Pochon=\", cle_privee[0])\n",
    "    print(\"M=\", cle_privee[1])\n",
    "    print(\"Message chiffré=\",messageChiffre)\n",
    "    print(\"Sigma=\",cle_privee[3])\n",
    "    print(\"clé pub=\", cle_publique)\n",
    "    messageDechiffre = dechiffre(messageChiffre, cle_privee)\n",
    "    print(\"Message déchiffré=\",messageDechiffre)\n",
    "    return message == messageDechiffre\n",
    "\n",
    "test_chiffrement_dechiffrement(\"10101\", 5)"
   ]
  },
  {
   "cell_type": "markdown",
   "metadata": {},
   "source": [
    "## D'après vous, le NIST a-t-il eu raison de ne pas retenir le crypto-système de Kifli dans sa liste d'algorithmes post-quantique ? Justifiez votre réponse.\n",
    "\n",
    "\n",
    "N'ayant pas pu trouver d'informations complémentaire sur le crypto-système de Kifli donc à partir des informations donnés dans le sujet, il nous semble que ce crypto-système mérite une place dans la liste des algorithmes post-quantiques pour deux raisons.\n",
    "\n",
    "En premier lieu, ce crypto-système semble respecter toutes les qualités que doivent respecter un crypto-système c'est à dire : \n",
    "- Confusion : Le message est intelligible lorsqu'il est chiffré.\n",
    "- Diffusion : Une modification légère du message change le message suffisament pour ne pas déduire des informations.\n",
    "- Robustesse de la clé : La robustesse de la clé dépend grandement de la capacité à générer aléatoirement une paire clé publique clé privée efficacement, de plus la longueur de la clé doit être assez grande pour qu'elle soit robuste. Cependant si elle est bien généré alors la clé est bien robuste.\n",
    "\n",
    "En second lieu, il rompt avec le problème de factorisation que propose l'algorithme clé publique, clé privée utilisé en ce moment (RSA) qui est un problème qui sera résolu avec l'apparition des ordinateurs quantiques.\n",
    "En proposant à la place un problème NP-complet qui n'ai pas d'algorithmes permettant de résoudre tous les cas en compléxité polynomial n.\n",
    "De plus cet algorithme a peu de chance d'exister dans le futur car il n'est pas certain qu'il puisse exister un tel algorithme.\n",
    "\n",
    "\n",
    "Cependant, il nous semble pertinent de mentionner qu'en tant que 2ème année de BUT Informatique nous connaissons pas assez la cryptographie et la cryptanalyse nous permettant d'avoir le recul nécessaire pour affirmer que cet algorithme soit viable ou non pour le futur.\n",
    "\n"
   ]
  }
 ],
 "metadata": {
  "kernelspec": {
   "display_name": "Python 3",
   "language": "python",
   "name": "python3"
  },
  "language_info": {
   "codemirror_mode": {
    "name": "ipython",
    "version": 3
   },
   "file_extension": ".py",
   "mimetype": "text/x-python",
   "name": "python",
   "nbconvert_exporter": "python",
   "pygments_lexer": "ipython3",
   "version": "3.10.12"
  },
  "orig_nbformat": 4
 },
 "nbformat": 4,
 "nbformat_minor": 2
}
