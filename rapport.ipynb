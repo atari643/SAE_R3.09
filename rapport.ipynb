{
 "cells": [
  {
   "cell_type": "markdown",
   "metadata": {},
   "source": [
    "# Implémentation du cryptosytème de Kifli\n",
    "\n",
    "Dans ce notebook vous pourrez retrouver nos travaux sur l'implémentation du cryptosytème de Kifli.\n",
    "\n",
    "En premier lieu vous pourrez retrouver l'implémentation concrète en langage Python du cryptosytème, avec nottamment l'implémentation des méthodes indiqués dans le sujet : \n",
    "- `gen_pochon(n)` qui génère un pochon de taille $n$.\n",
    "- `gen_cle_privee(n)` qui génère une clé privée.\n",
    "- `gen_cle_publique(cle_privee)` qui génère la clé publique à partir de \n",
    "la clé privée.\n",
    "- `solve_pochon(pochon, c)` qui résout un problème de *pochon*.\n",
    "- `chiffre(message, cle_publique)` qui chiffre un message.\n",
    "- `dechiffre(message_chiffre, cle_privee)` qui déchiffre un message.\n",
    "- `test_chiffrement_dechiffrement(message, n)` qui créé une paire de clés et chiffre et déchiffre un message puis vérifie que le message déchiffré est bien égal au message initial.\n",
    "\n",
    "En second lieu, notre analyse de critique de cette implémentation via une analyse de l'éxécution et de sa valididé comme algorithme. post-quantique\n",
    "\n",
    "Equipe : \n",
    "- Matis Olives\n",
    "- Quentin Artigala\n",
    "- Illan Gabarra"
   ]
  },
  {
   "cell_type": "markdown",
   "metadata": {},
   "source": [
    "## Algorithmes d'Euclide utilisés\n",
    "\n",
    "Afin de calculer `w` ainsi que son inverse modulaire, nous avons implémenté l'algorithme d'Euclide, ansi que sa version étendue. Nous pouvons donc déterminer quelles valeurs de `w` sont premières avec `M`, et le coefficient de Bezout. Nous avons conservé la version impérative car, pour $n$ assez grand, il sera impossible de réaliser l'algorithme en version récursive."
   ]
  },
  {
   "cell_type": "code",
   "execution_count": 6,
   "metadata": {},
   "outputs": [],
   "source": [
    "def algo_Euclide(a, b):\n",
    "    \"\"\"Algorithme d'Euclide non récursif pour le calcul du PGCD de a et b\"\"\"\n",
    "    while b != 0:\n",
    "        a, b = b, a % b\n",
    "    return a\n",
    "\n",
    "def algo_Euclide_etendu(a, b):\n",
    "    \"\"\"Algorithme d'Euclide étendu pour le calcul du PGCD de a et b et de u et v tels que au+bv=PGCD(a,b)\"\"\"\n",
    "    u1, u2, v1, v2 = 1, 0, 0, 1\n",
    "    while b != 0:\n",
    "        q, r = divmod(a, b)\n",
    "        a, b = b, r\n",
    "        u1, u2 = u2, u1 - q * u2\n",
    "        v1, v2 = v2, v1 - q * v2\n",
    "    return a, u1, v1\n"
   ]
  },
  {
   "cell_type": "markdown",
   "metadata": {},
   "source": [
    "## Génération de la paire clé privée, clé publique"
   ]
  },
  {
   "cell_type": "code",
   "execution_count": 7,
   "metadata": {},
   "outputs": [],
   "source": [
    "# Importation des bibliothèques utilisées pour la génération de nombres aléatoires\n",
    "import random as rd\n",
    "from sys import maxsize\n",
    "        \n",
    "def gen_pochon(n):\n",
    "    \"\"\"Génération d'un pochon de n entiers supercroissants aléatoires \"\"\"\n",
    "    tab = []\n",
    "    somme = 0\n",
    "    for i in range(n):\n",
    "        b = rd.randint(somme+1, somme+maxsize//n)\n",
    "        somme += b\n",
    "        tab.append(b)\n",
    "    return tab\n",
    "\n",
    "def gen_W(M):\n",
    "    \"\"\"Génération d'un entier aléatoire w premier avec M\"\"\"\n",
    "    w=rd.randint(1, M-1)\n",
    "    while(algo_Euclide(w,M)!=1):\n",
    "        w=rd.randint(1, M-1)\n",
    "    return w\n",
    "\n",
    "def gen_permutation(n):\n",
    "    \"\"\"Génération d'une permutation aléatoire de [1,n]\"\"\"\n",
    "    sigma = list(range(1, n+1))\n",
    "    rd.shuffle(sigma)\n",
    "    return sigma\n",
    "\n",
    "def gen_cle_privee(n):\n",
    "    \"\"\"\n",
    "    Génère une clé privée du cryptosystème de Kifli. Une clé privée contient un pochon P,\n",
    "    un entier M tel que la somme du pochon < M, W entier aléatoire entre 1 et M et premier avec ce dernier,\n",
    "    et sigma, représentant une permutation aléatoire des indices du pochon.\n",
    "\n",
    "    Paramètres:\n",
    "        n : La taille du pochon et de sigma.\n",
    "\n",
    "    Retourne:\n",
    "        (p, m, w, sigma) : La clé privée sous forme de quadruplet.\n",
    "    \"\"\"\n",
    "\n",
    "    # Génération d'un pochon\n",
    "    p = gen_pochon(n)\n",
    "\n",
    "    # Génération d'un nombre m entre la somme des éléments du pochon et sys.maxsize//n\n",
    "    m = rd.randint(sum(p) + 1, sum(p) + maxsize//n)\n",
    "\n",
    "    # Génération d'un nombre w premier avec m\n",
    "    w = gen_W(m)\n",
    "\n",
    "    # Génération d'une permutation aléatoire de [1,n]\n",
    "    sigma = gen_permutation(n)\n",
    "    \n",
    "    return (p, m, w, sigma)\n",
    "\n",
    "def gen_cle_publique(cle_privee):\n",
    "    \"\"\"Génération de la clé publique à partir de la clé privée \"\"\"\n",
    "    pochon, m, w, sigma = cle_privee\n",
    "    cle_public=[0]*len(sigma)\n",
    "    for i in range(len(sigma)):\n",
    "        cle_public[i]=pochon[sigma[i]-1]*w%m\n",
    "    return cle_public"
   ]
  },
  {
   "cell_type": "markdown",
   "metadata": {},
   "source": [
    "## Chiffrement déchiffrement d'un message \n",
    "\n",
    "Souhaitant pouvoir chiffrer un message qui ne fasse pas forcément la taille de la clé ou taille du pochon (n) nous avons fait en sorte que le message transmis soit composé d'une liste d'entiers avec comme premier élément, la taille du dernier bloc chiffré. \n",
    "Sans cet élément on ne pourrait différencier un message `101` d'un message `10100` avec un pochon de taille 5 par exemple. \n",
    "\n",
    "Cas où le message fait la même taille que la clé:\n",
    "- Le résultat est une liste de type : `[[tailleCle], [messageChiffre]]`\n",
    "- Le message est donc déchiffré et aucune modification est effectuée sur le message déchiffré\n",
    "\n",
    "\n",
    "Cas où le message fait une taille inférieur à la clé:\n",
    "- Le résultat est une liste de type : `[[tailleMessage], [messageChiffre]]`\n",
    "- Le message est déchiffré comme s'il était de taille n seulement `n - tailleMessage` bits à 0 sont rajoutés lors du déchiffrement de façon involontaire puis éliminés grace à l'information `tailleMessage` transmise.\n",
    "\n",
    "Cas où le message fait une taille supérieur à la clé:\n",
    "- Le résultat est une liste de type : `[[tailleDernierBloc], [blocMessageChiffre], [blocMessageChiffre], [blocMessageChiffre], ... ]`\n",
    "- Chaque bloc est déchiffré séparemment puis les résultats sont concaténés les uns aux autres, selon la taille du dernier bloc une modification est réalisé au même titre que les scénarios cités précedemments mais où le message est la taille du dernier bloc."
   ]
  },
  {
   "cell_type": "markdown",
   "metadata": {},
   "source": [
    "### Chiffrement"
   ]
  },
  {
   "cell_type": "code",
   "execution_count": 8,
   "metadata": {},
   "outputs": [],
   "source": [
    "def chiffre(message, cle_publique):\n",
    "    '''\n",
    "    Chiffre un message à partir d'une clé publique\n",
    "    d'un crypto-système de Kifli\n",
    "\n",
    "    Parametres :\n",
    "        message      (str)   : Message encodé en binaire. ex : '10110'\n",
    "        cle_publique (int[]) : Tableau d'entier correspondant à la clé publique\n",
    "\n",
    "    Retourne :\n",
    "        int[] : Une liste de bloc de message crypté ou le premier élément correspond à la taille du dernier bloc\n",
    "    '''\n",
    "    \n",
    "    blocsMessageChiffre = []\n",
    "    n = len(cle_publique) # n correspond à la taille maximum des blocs de message\n",
    "\n",
    "    # On découpe tout d'abord le message en sous message d'une taille égale ou inférieure à la taille de la clé publique\n",
    "    # Puis on parcours chacun de ces blocs\n",
    "    for blocMessage in decoupMessage(message,n) :\n",
    "        tailleDernierBloc = len(blocMessage)\n",
    "        sommeC = 0\n",
    "\n",
    "        # On parcours chaque bit du bloc de message\n",
    "        for i in range (len(blocMessage)):\n",
    "            if (blocMessage[i] == \"1\"):\n",
    "                # On ajoute à la somme la valeur associé à la position du 1 dans le message qui est la valeur à l'index i du paquet A\n",
    "                sommeC += cle_publique[i]\n",
    "        blocsMessageChiffre.append((sommeC))\n",
    "\n",
    "    # On rajoute en première position la taille du dernier bloc\n",
    "    return [tailleDernierBloc] + blocsMessageChiffre\n",
    "\n",
    "def decoupMessage(message,n):\n",
    "    '''\n",
    "    Découpe un message en plusieurs chaînes de caractères d'une taille n ou inférieure.\n",
    "    Seulement le dernier bloc peut avoir une taille inférieure.\n",
    "\n",
    "    Parametres :\n",
    "        message (str) : Message à découper\n",
    "        n       (int) : Taille \n",
    "\n",
    "    Retourne :\n",
    "        str[] : Une liste de blocs du message\n",
    "    '''\n",
    "\n",
    "    messageDecoupe = []\n",
    "\n",
    "    #Découpage jusqu'à que le message initial soit vide\n",
    "    while len(message) > 0 :\n",
    "\n",
    "        # Récupèration d'un bloc de taille n\n",
    "        messageDecoupe.append(message[:n]) \n",
    "\n",
    "        # Changement du message afin d'enlever le bloc récupéré précedemment\n",
    "        message = message[n:] \n",
    "\n",
    "    return messageDecoupe"
   ]
  },
  {
   "cell_type": "markdown",
   "metadata": {},
   "source": [
    "### Déchiffrement\n",
    "\n",
    "Composé de la méthode `solve_pochon(pochon, c)` permettant de résoudre le problème de pochon ainsi que la méthode `dechiffre(message_chiffre, cle_privee)` permettant de déchiffrer un message à partir de la clé privée"
   ]
  },
  {
   "cell_type": "code",
   "execution_count": 9,
   "metadata": {},
   "outputs": [],
   "source": [
    "def solve_pochon(pochon, c):\n",
    "    \"\"\"\n",
    "    Renvoie une solution au problème de pochon.\n",
    "\n",
    "    Paramètres :\n",
    "        pochon : Le pochon dont on veut résoudre son problème.\n",
    "        c : Le nombre à comparer avec les éléments du pochon.\n",
    "\n",
    "    Retour :\n",
    "        E : La liste des indices du pochon qui résolvent le problème de pochon.\n",
    "    \"\"\"\n",
    "\n",
    "    E = [0] * len(pochon)\n",
    "\n",
    "    for i in reversed(range(len(pochon))):\n",
    "        if pochon[i] <= c:\n",
    "            E[i] = 1\n",
    "            c -= pochon[i]\n",
    "\n",
    "    return E\n",
    "\n",
    "def dechiffre(message_chiffre, cle_privee):\n",
    "    \"\"\"\n",
    "    Déchiffre un message chiffré par le cryptosystème de Kifli.\n",
    "\n",
    "    Paramètres:\n",
    "        message_chiffre : Le message chiffré par le cryptosystème de Kifli. Il est\n",
    "        représenté par une liste, qui sert de découpage du message.\n",
    "        cle_privee : La clé privée utilisée.\n",
    "\n",
    "    Retourne :\n",
    "        message_dechiffre : Le message déchiffré, sous forme d'une chaine de caractères.\n",
    "    \"\"\"\n",
    "\n",
    "    # Inverse modulaire de W\n",
    "    inverse_mod_w = algo_Euclide_etendu(cle_privee[2], cle_privee[1])[1] % cle_privee[1]\n",
    "    # Nous avons considéré que la taille du dernier bloc de message était necessaire, elle est donc en première position dans le tableau d'entier du message chiffré\n",
    "    taille_dernier_bloc = message_chiffre[0]\n",
    "    message_dechiffre = \"\"\n",
    "    # Récupéation du pochon\n",
    "    P = cle_privee[0]\n",
    "    # Récupération de la permutation des indices du pochon\n",
    "    sigma=cle_privee[3]\n",
    "    \n",
    "    for message in message_chiffre[1:]:\n",
    "        # Déterminer D tel que D = W^-1*message%M, avec W^-1 l'inverse modulaire de W.\n",
    "        D = inverse_mod_w * message % cle_privee[1]\n",
    "\n",
    "        # Résolution du problème de pochons        \n",
    "        E = solve_pochon(P, D)\n",
    "\n",
    "        sous_message = [\"0\"]*len(cle_privee[3])\n",
    "        \n",
    "        for i in range(len(sigma)):\n",
    "            if(E[sigma[i]-1]==1):\n",
    "                sous_message[i]=\"1\"\n",
    "\n",
    "        message_dechiffre += \"\".join(sous_message)\n",
    "\n",
    "    # Découpage du dernier bloc, pour retirer les derniers éléments non-désirés, dans le cas où n est différent de la taille du message\n",
    "    message_dechiffre = message_dechiffre[:len(message_dechiffre)-(len(P)-taille_dernier_bloc)]\n",
    "\n",
    "    return message_dechiffre\n",
    "\n",
    "        \n"
   ]
  },
  {
   "cell_type": "markdown",
   "metadata": {},
   "source": [
    "# Tests de l'implémentation"
   ]
  },
  {
   "cell_type": "markdown",
   "metadata": {},
   "source": [
    "## Test unitaires\n",
    "\n",
    "Tests permettant de tester chaque méthode séparémment à partir de la paire de clés donnée en exemple.\n",
    "\n",
    "Dans ces tests unitaires nous ne testons pas les méthodes générant la clé privée car cela est lié à l'aléatoire"
   ]
  },
  {
   "cell_type": "code",
   "execution_count": 41,
   "metadata": {},
   "outputs": [],
   "source": [
    "cle_publique_test = [22,16,71,54,56]\n",
    "n_test = 5\n",
    "P_test = [2,5,11,23,55]\n",
    "M_test = 113\n",
    "W_test = 27\n",
    "sigma_test = (2,5,3,1,4)\n",
    "cle_priv_test=(P_test,M_test,W_test,sigma_test)"
   ]
  },
  {
   "cell_type": "markdown",
   "metadata": {},
   "source": [
    "### Génération de clé publique"
   ]
  },
  {
   "cell_type": "code",
   "execution_count": 42,
   "metadata": {},
   "outputs": [],
   "source": [
    "assert(gen_cle_publique(cle_priv_test) == cle_publique_test)"
   ]
  },
  {
   "cell_type": "markdown",
   "metadata": {},
   "source": [
    "### Chiffrement"
   ]
  },
  {
   "cell_type": "code",
   "execution_count": 12,
   "metadata": {},
   "outputs": [],
   "source": [
    "# Test pour le scénario où le message est de la même taille que le pochon\n",
    "messageChiffre = chiffre('10101',cle_publique_test)\n",
    "assert([5,149] == messageChiffre)\n",
    "\n",
    "# Test pour le scénario où le message est d'une taille inférieur à celle du pochon\n",
    "messageChiffre = chiffre('1101',cle_publique_test)\n",
    "assert([4,92] == messageChiffre)\n",
    "\n",
    "# Test pour le scénario où le message est d'une taille supérieure à celle du pochon\n",
    "messageChiffre = chiffre('10100110',cle_publique_test)\n",
    "assert([3,93,38]  == messageChiffre)"
   ]
  },
  {
   "cell_type": "markdown",
   "metadata": {},
   "source": [
    "### Dechiffrement"
   ]
  },
  {
   "cell_type": "code",
   "execution_count": 13,
   "metadata": {},
   "outputs": [],
   "source": [
    "# Test pour le scénario où le message est de la même taille que le pochon\n",
    "messageDeChiffre = dechiffre([5,149],cle_priv_test)\n",
    "assert(\"10101\" == messageDeChiffre)\n",
    "\n",
    "# Test pour le scénario où le message est d'une taille inférieur à celle du pochon\n",
    "messageDeChiffre = dechiffre([4,92],cle_priv_test)\n",
    "assert(\"1101\" == messageDeChiffre)\n",
    "\n",
    "# Test pour le scénario où le message est d'une taille supérieure à celle du pochon\n",
    "messageDeChiffre = dechiffre([3,93,38],cle_priv_test)\n",
    "assert(\"10100110\"== messageDeChiffre)"
   ]
  },
  {
   "cell_type": "markdown",
   "metadata": {},
   "source": [
    "## Tests fonctionnels\n",
    "\n",
    "Ces tests permettent essentiellement de tester la génération de la paire de clés avec des tailles aléatoires ainsi que le chiffrement et déchiffrement de messages aléatoires de taille aléatoire."
   ]
  },
  {
   "cell_type": "code",
   "execution_count": 14,
   "metadata": {},
   "outputs": [],
   "source": [
    "def test_chiffrement_dechiffrement(message, n) :\n",
    "    cle_privee = gen_cle_privee(n)\n",
    "    cle_publique = gen_cle_publique(cle_privee)\n",
    "\n",
    "    messageChiffre = chiffre(message, cle_publique)\n",
    "    messageDechiffre = dechiffre(messageChiffre, cle_privee)\n",
    "\n",
    "    return message == messageDechiffre\n",
    "\n",
    "\n",
    "# Test de chiffrement et de déchiffrement pour 100 messages aléatoires de taille aléatoire entre 1 et 100000\n",
    "# Avec pour chaque message une clé privée générée aléatoirement et sa clé publique associée avec une taille de pochon aléatoire entre 1 et 10000\n",
    "for i in range(100):\n",
    "    k = rd.randint(1, 100000)\n",
    "    message = \"\".join(str(rd.randint(0, 1)) for _ in range(k))\n",
    "    n=rd.randint(1, 10000)\n",
    "    assert(test_chiffrement_dechiffrement(message, n))"
   ]
  },
  {
   "cell_type": "markdown",
   "metadata": {},
   "source": [
    "# Analyse du sujet et de notre implémentation"
   ]
  },
  {
   "cell_type": "markdown",
   "metadata": {},
   "source": [
    "## Analyse des bornes et performances\n",
    "\n",
    "Nous avons réalisé des tests de performance, pour des valeurs de ntailles du pochon entre 1 et 20000, avec un pas de 1000.\n",
    "\n",
    "Voici le bloc permettant de générer le graphique : "
   ]
  },
  {
   "cell_type": "code",
   "execution_count": 40,
   "metadata": {},
   "outputs": [
    {
     "data": {
      "image/png": "[encoded data removed]",
      "text/plain": [
       "<Figure size 640x480 with 1 Axes>"
      ]
     },
     "metadata": {},
     "output_type": "display_data"
    }
   ],
   "source": [
    "import matplotlib.pyplot as plt\n",
    "from time import time\n",
    "\n",
    "\n",
    "def bornes_kifli(n, pas):\n",
    "    temps = []\n",
    "    taille=[i for i in range(1, n+1) if i%pas==0]\n",
    "    for i in taille:\n",
    "        if(i%pas==0):\n",
    "            message=\"\".join(str(rd.randint(0,1)) for _ in range(i))\n",
    "            t1=time()\n",
    "            test_chiffrement_dechiffrement(message, i)\n",
    "            t2=time()\n",
    "            temps.append(t2-t1)\n",
    "    plt.plot(taille, temps)\n",
    "    plt.xlabel(\"Taille du message\")\n",
    "    plt.ylabel(\"Temps d'exécution (s)\")\n",
    "    plt.title(\"Temps d'exécution en fonction de la taille du message\")\n",
    "    plt.show()\n",
    "bornes_kifli(20000, 1000)\n",
    "    \n"
   ]
  },
  {
   "cell_type": "markdown",
   "metadata": {},
   "source": [
    "Nous pouvons observer que la courbe générée converge vers une courbe exponentielle. Ainsi, l'algorithme complet de génération des clés, chiffrement d'un message et son déchiffrement.\n",
    "\n",
    "Pour $n = 20000$, nous avons un temps d'exécution de 6 secondes."
   ]
  },
  {
   "cell_type": "markdown",
   "metadata": {},
   "source": [
    "## D'après vous, le NIST a-t-il eu raison de ne pas retenir le crypto-système de Kifli dans sa liste d'algorithmes post-quantique ?\n",
    "\n",
    "\n",
    "N'ayant pas pu trouver d'informations complémentaire sur le crypto-système de Kifli donc à partir des informations donnés dans le sujet, il nous semble que ce crypto-système mérite une place dans la liste des algorithmes post-quantiques pour deux raisons.\n",
    "\n",
    "En premier lieu, ce crypto-système semble respecter toutes les qualités que doivent respecter un crypto-système c'est à dire : \n",
    "- Confusion : Le message est inintelligible lorsqu'il est chiffré.\n",
    "- Diffusion : Une modification légère du message change le message suffisament pour ne pas déduire des informations.\n",
    "- Robustesse de la clé : La robustesse de la clé dépend grandement de la capacité à générer aléatoirement une paire clé publique clé privée efficacement, de plus la longueur de la clé doit être assez grande pour qu'elle soit robuste. Cependant si elle est bien généré alors la clé est robuste.\n",
    "\n",
    "En second lieu, il rompt avec le problème de factorisation que propose l'algorithme clé publique, clé privée utilisé en ce moment (RSA) qui est un problème qui sera résolu avec l'apparition des ordinateurs quantiques.\n",
    "En proposant à la place un problème NP-complet qui n'ai pas d'algorithmes permettant de résoudre tous les cas en compléxité polynomial n.\n",
    "De plus cet algorithme a peu de chance d'exister dans le futur car il n'est pas certain qu'il puisse exister un tel algorithme.\n",
    "\n",
    "\n",
    "Cependant, il nous semble pertinent de mentionner qu'en tant que 2ème année de BUT Informatique nous connaissons pas assez la cryptographie et la cryptanalyse nous permettant d'avoir le recul nécessaire pour affirmer que cet algorithme soit viable ou non pour le futur.\n",
    "\n"
   ]
  },
  {
   "cell_type": "markdown",
   "metadata": {},
   "source": [
    "### Perspectives\n",
    "\n",
    "#### Optimisation de la génération des clés :\n",
    "On pourrait améliorer notre implémentation notamment en optimisant la génération de la paire clé privée, clé publique, car la génération d'un nombre W premier avec M est plutôt longue lorsque que le nombre M est grand.\n",
    "\n",
    "Une autre perspective serait d'utiliser cette méthode de chiffremment pour au même titre qu'un réel message sur un réseau le transférer via des nombre binaire et non des listes d'entiers. \n",
    "\n",
    "On pourrait également prendre en charge l'encodage d'un texte en binaire avant le chiffrement et le décodage après le déchiffrement.\n",
    "\n",
    "\n"
   ]
  }
 ],
 "metadata": {
  "kernelspec": {
   "display_name": "Python 3",
   "language": "python",
   "name": "python3"
  },
  "language_info": {
   "codemirror_mode": {
    "name": "ipython",
    "version": 3
   },
   "file_extension": ".py",
   "mimetype": "text/x-python",
   "name": "python",
   "nbconvert_exporter": "python",
   "pygments_lexer": "ipython3",
   "version": "3.11.6"
  },
  "orig_nbformat": 4
 },
 "nbformat": 4,
 "nbformat_minor": 2
}
