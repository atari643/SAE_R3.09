{
 "cells": [
  {
   "cell_type": "markdown",
   "metadata": {},
   "source": [
    "On peut faire les fonctions impératives pour ce projet"
   ]
  },
  {
   "cell_type": "code",
   "execution_count": null,
   "metadata": {},
   "outputs": [
    {
     "name": "stdout",
     "output_type": "stream",
     "text": [
      "[22, 16, 71, 54, 56]\n"
     ]
    }
   ],
   "source": [
    "import math\n",
    "import random as rd\n",
    "import sys\n",
    "def algo_Euclide(a,b):\n",
    "    if(b==0):\n",
    "        return a\n",
    "    else:\n",
    "        return algo_Euclide(b,a%b)\n",
    "        \n",
    "def exponentiation_modulaire (a, e, n):\n",
    "    p=1\n",
    "    while e>0:\n",
    "        if (e % 2 != 0):\n",
    "            p=(p*a)%n\n",
    "            a=(a*a)%n\n",
    "            e=e//2\n",
    "    return p\n"
   ]
  },
  {
   "cell_type": "code",
   "execution_count": null,
   "metadata": {},
   "outputs": [],
   "source": [
    "\n",
    "def algo_Euclide_etendu(a,b):\n",
    "    if(b==0):\n",
    "        return(a,1,0)\n",
    "    else:\n",
    "        d,u,v=algo_Euclide_etendu(b,algo_Euclide(a,b))\n",
    "        return d,v,u-(a/b)*v\n",
    "        \n",
    "def gen_pochon(n):\n",
    "    tab=[]\n",
    "    b=rd.randint(0,sys.maxsize//n)\n",
    "    tab.append(b)\n",
    "    n=n-1\n",
    "    somme=b\n",
    "    while (n>0):\n",
    "        b=rd.randint(somme, somme + sys.maxsize//n)\n",
    "        n=n-1\n",
    "        somme+=b\n",
    "        tab.append(b)\n",
    "    return tab\n",
    "def gen_W(M):\n",
    "    W=rd.randint(1, M-1)\n",
    "    while(math.gcd(W,M)!=1):\n",
    "        W=rd.randint(1, M-1)\n",
    "    return W\n",
    "def gen_permutation(pochon,n):\n",
    "    tab=[]\n",
    "    while (len(tab)<n):\n",
    "        i=rd.randint(0,n-1)\n",
    "        if(tab.count(i)==0):\n",
    "            tab.append(i)\n",
    "    return tab\n",
    "def gen_A(pochon,W,M,sigma,n):\n",
    "    tabA=[]\n",
    "    i=0\n",
    "    while (len(tabA)<n):\n",
    "        tabA.append((pochon[sigma[i]]*W)%M)\n",
    "        i+=1\n",
    "    return tabA\n",
    "\n",
    "n=5\n",
    "pochon=[2,5,11,23,55]\n",
    "M=113\n",
    "W=27\n",
    "sigma=[1,4,2,0,3]\n",
    "A=gen_A(pochon,W,M,sigma,n)\n",
    "print(A)\n",
    "\n",
    "\n",
    "\n",
    "\n",
    "        \n",
    "    "
   ]
  }
 ],
 "metadata": {
  "kernelspec": {
   "display_name": "Python 3",
   "language": "python",
   "name": "python3"
  },
  "language_info": {
   "codemirror_mode": {
    "name": "ipython",
    "version": 3
   },
   "file_extension": ".py",
   "mimetype": "text/x-python",
   "name": "python",
   "nbconvert_exporter": "python",
   "pygments_lexer": "ipython3",
   "version": "3.10.12"
  },
  "orig_nbformat": 4
 },
 "nbformat": 4,
 "nbformat_minor": 2
}
